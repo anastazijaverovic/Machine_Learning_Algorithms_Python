{
 "cells": [
  {
   "cell_type": "code",
   "execution_count": 2,
   "metadata": {},
   "outputs": [],
   "source": [
    "## Simple Linear Regression\n",
    "\n",
    "# Importing the libraries\n",
    "import numpy as np\n",
    "import matplotlib.pyplot as plt\n",
    "import pandas as pd\n",
    "\n",
    "# Data Preprocessing\n",
    "\n",
    "# Import the dataset\n",
    "dataset = pd.read_csv('Salary_Data.csv')\n",
    "\n",
    "# Matrix of features\n",
    "x = dataset.iloc[:,:-1]\n",
    "\n",
    "# Dependent variable vector\n",
    "y = dataset.iloc[:,-1]\n",
    "\n",
    "# Missing data - there is none\n",
    "\n",
    "# Encoding categorical data\n",
    "\n",
    "# Splitting the dataset into training and test set\n",
    "from sklearn.model_selection import train_test_split\n",
    "x_train, x_test, y_train, y_test = train_test_split(x, y, test_size = 0.2, random_state = 1)\n",
    "\n",
    "# Feature Scaling\n",
    "from sklearn.preprocessing import StandardScaler\n",
    "sc = StandardScaler()\n"
   ]
  },
  {
   "cell_type": "code",
   "execution_count": 3,
   "metadata": {},
   "outputs": [
    {
     "name": "stdout",
     "output_type": "stream",
     "text": [
      "    YearsExperience\n",
      "26              9.5\n",
      "3               2.0\n",
      "24              8.7\n",
      "22              7.9\n",
      "23              8.2\n",
      "4               2.2\n",
      "2               1.5\n",
      "25              9.0\n",
      "6               3.0\n",
      "18              5.9\n",
      "13              4.1\n",
      "7               3.2\n",
      "27              9.6\n",
      "1               1.3\n",
      "16              5.1\n",
      "0               1.1\n",
      "15              4.9\n",
      "29             10.5\n",
      "28             10.3\n",
      "9               3.7\n",
      "8               3.2\n",
      "12              4.0\n",
      "11              4.0\n",
      "5               2.9\n"
     ]
    }
   ],
   "source": [
    "print(x_train)"
   ]
  },
  {
   "cell_type": "code",
   "execution_count": 4,
   "metadata": {},
   "outputs": [
    {
     "name": "stdout",
     "output_type": "stream",
     "text": [
      "    YearsExperience\n",
      "17              5.3\n",
      "21              7.1\n",
      "10              3.9\n",
      "19              6.0\n",
      "14              4.5\n",
      "20              6.8\n"
     ]
    }
   ],
   "source": [
    "print(x_test)"
   ]
  },
  {
   "cell_type": "code",
   "execution_count": 5,
   "metadata": {},
   "outputs": [
    {
     "name": "stdout",
     "output_type": "stream",
     "text": [
      "26    116969.0\n",
      "3      43525.0\n",
      "24    109431.0\n",
      "22    101302.0\n",
      "23    113812.0\n",
      "4      39891.0\n",
      "2      37731.0\n",
      "25    105582.0\n",
      "6      60150.0\n",
      "18     81363.0\n",
      "13     57081.0\n",
      "7      54445.0\n",
      "27    112635.0\n",
      "1      46205.0\n",
      "16     66029.0\n",
      "0      39343.0\n",
      "15     67938.0\n",
      "29    121872.0\n",
      "28    122391.0\n",
      "9      57189.0\n",
      "8      64445.0\n",
      "12     56957.0\n",
      "11     55794.0\n",
      "5      56642.0\n",
      "Name: Salary, dtype: float64\n"
     ]
    }
   ],
   "source": [
    "print(y_train)"
   ]
  },
  {
   "cell_type": "code",
   "execution_count": 6,
   "metadata": {},
   "outputs": [
    {
     "name": "stdout",
     "output_type": "stream",
     "text": [
      "17    83088.0\n",
      "21    98273.0\n",
      "10    63218.0\n",
      "19    93940.0\n",
      "14    61111.0\n",
      "20    91738.0\n",
      "Name: Salary, dtype: float64\n"
     ]
    }
   ],
   "source": [
    "print(y_test)"
   ]
  },
  {
   "cell_type": "code",
   "execution_count": null,
   "metadata": {},
   "outputs": [],
   "source": []
  }
 ],
 "metadata": {
  "kernelspec": {
   "display_name": "Python 3",
   "language": "python",
   "name": "python3"
  },
  "language_info": {
   "codemirror_mode": {
    "name": "ipython",
    "version": 3
   },
   "file_extension": ".py",
   "mimetype": "text/x-python",
   "name": "python",
   "nbconvert_exporter": "python",
   "pygments_lexer": "ipython3",
   "version": "3.8.5"
  }
 },
 "nbformat": 4,
 "nbformat_minor": 4
}
