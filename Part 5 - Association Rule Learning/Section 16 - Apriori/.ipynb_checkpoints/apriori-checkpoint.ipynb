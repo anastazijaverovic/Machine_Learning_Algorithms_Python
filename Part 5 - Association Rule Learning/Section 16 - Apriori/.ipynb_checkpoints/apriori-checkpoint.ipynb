{
 "cells": [
  {
   "cell_type": "code",
   "execution_count": null,
   "metadata": {},
   "outputs": [],
   "source": [
    "## Apriori Association Rule Learning"
   ]
  },
  {
   "cell_type": "code",
   "execution_count": 10,
   "metadata": {},
   "outputs": [
    {
     "name": "stdout",
     "output_type": "stream",
     "text": [
      "Collecting apyori\n",
      "  Downloading apyori-1.1.2.tar.gz (8.6 kB)\n",
      "Building wheels for collected packages: apyori\n",
      "  Building wheel for apyori (setup.py) ... \u001b[?25ldone\n",
      "\u001b[?25h  Created wheel for apyori: filename=apyori-1.1.2-py3-none-any.whl size=5974 sha256=ef0721ab656cc1549127abb6c1ae3dfbbfe98e081b1dc0598aa54676360c4c69\n",
      "  Stored in directory: /Users/anastazijaverovic/Library/Caches/pip/wheels/1b/02/6c/a45230be8603bd95c0a51cd2b289aefdd860c1a100eab73661\n",
      "Successfully built apyori\n",
      "Installing collected packages: apyori\n",
      "Successfully installed apyori-1.1.2\n"
     ]
    }
   ],
   "source": [
    "# Importing the libraries\n",
    "\n",
    "!pip install apyori\n",
    "\n",
    "import numpy as np\n",
    "import matplotlib.pyplot as plt\n",
    "import pandas as pd"
   ]
  },
  {
   "cell_type": "code",
   "execution_count": 25,
   "metadata": {},
   "outputs": [],
   "source": [
    "# Importing the dataset\n",
    "\n",
    "dataset = pd.read_csv('Market_Basket_Optimisation.csv', header = None)\n",
    "# apriori() needs dataset to be in a list of transactions format, not a data frame\n",
    "# all the elements need to be strings -> str\n",
    "\n",
    "transactions = []\n",
    "#for i in range(0,7501):\n",
    "#    transactions.append([str(dataset.values[i,j]) for j in range(0,20)])\n",
    "\n",
    "transactions = dataset.values.tolist()\n",
    "#print(transactions)"
   ]
  },
  {
   "cell_type": "code",
   "execution_count": null,
   "metadata": {},
   "outputs": [],
   "source": [
    "# Fitting (training) the model to the dataset\n",
    "\n",
    "# min_support - minimal support so we don't have to compute all the rules but only the relevant ones\n",
    "# support for 2 products - (no of transactions containing these 2 products)/(total no of transactions)\n",
    "# we only consider products appearing 3x a week\n",
    "from apyori import apriori\n",
    "rules = apriori(transactions = transactions, min_support = ,)"
   ]
  },
  {
   "cell_type": "code",
   "execution_count": null,
   "metadata": {},
   "outputs": [],
   "source": [
    "# Visualisation of the results\n",
    "\n",
    "# First Apriori results\n",
    "\n",
    "# First Apriori results -> Pandas DataFrame\n",
    "\n",
    "# Visualisation of the results - nonsorted\n",
    "\n",
    "# Visualisation of the results - sorted by desc lifts"
   ]
  }
 ],
 "metadata": {
  "kernelspec": {
   "display_name": "Python 3",
   "language": "python",
   "name": "python3"
  },
  "language_info": {
   "codemirror_mode": {
    "name": "ipython",
    "version": 3
   },
   "file_extension": ".py",
   "mimetype": "text/x-python",
   "name": "python",
   "nbconvert_exporter": "python",
   "pygments_lexer": "ipython3",
   "version": "3.8.5"
  }
 },
 "nbformat": 4,
 "nbformat_minor": 4
}
