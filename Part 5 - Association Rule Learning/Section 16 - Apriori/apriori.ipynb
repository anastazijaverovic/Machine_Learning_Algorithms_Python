{
 "cells": [
  {
   "cell_type": "code",
   "execution_count": null,
   "metadata": {},
   "outputs": [],
   "source": [
    "## Apriori Association Rule Learning\n",
    "\n",
    "# business problem - buy one product + get one product for free"
   ]
  },
  {
   "cell_type": "code",
   "execution_count": 13,
   "metadata": {},
   "outputs": [
    {
     "name": "stdout",
     "output_type": "stream",
     "text": [
      "Requirement already satisfied: apyori in /opt/anaconda3/lib/python3.8/site-packages (1.1.2)\n"
     ]
    }
   ],
   "source": [
    "# Importing the libraries\n",
    "\n",
    "!pip install apyori\n",
    "\n",
    "import numpy as np\n",
    "import matplotlib.pyplot as plt\n",
    "import pandas as pd"
   ]
  },
  {
   "cell_type": "code",
   "execution_count": 23,
   "metadata": {},
   "outputs": [],
   "source": [
    "# Importing the dataset\n",
    "\n",
    "dataset = pd.read_csv('Market_Basket_Optimisation.csv', header = None)\n",
    "# apriori() needs dataset to be in a list of transactions format, not a data frame\n",
    "# all the elements need to be strings -> str\n",
    "\n",
    "transactions = []\n",
    "for i in range(0,7501):\n",
    "    transactions.append([str(dataset.values[i,j]) for j in range(0,20)])\n",
    "\n",
    "#transactions = dataset.values.tolist() # doesn't work with data types when casting rules as list !\n",
    "#print(transactions)"
   ]
  },
  {
   "cell_type": "code",
   "execution_count": 24,
   "metadata": {},
   "outputs": [],
   "source": [
    "# Fitting (training) the model to the dataset\n",
    "\n",
    "# min_support - minimal support so we don't have to compute all the rules but only the relevant ones\n",
    "# support for 2 products - (no of transactions containing these 2 products)/(total no of transactions) -> (3x7)/7501\n",
    "# we only consider products appearing 3x a week\n",
    "\n",
    "# min_confidence - if 0.8 - world should be correct 80% of the time - too high\n",
    "\n",
    "# lift - most valuable metric to measure trends of the rule\n",
    "\n",
    "# min_length, max_length - number of elements in the rule - 2 = 1 on each side\n",
    "\n",
    "from apyori import apriori\n",
    "rules = apriori(transactions = transactions, min_support = 0.003, min_confidence = 0.2, min_lift = 3, min_length = 2, max_length = 2)"
   ]
  },
  {
   "cell_type": "code",
   "execution_count": 25,
   "metadata": {},
   "outputs": [
    {
     "data": {
      "text/plain": [
       "[RelationRecord(items=frozenset({'chicken', 'light cream'}), support=0.004532728969470737, ordered_statistics=[OrderedStatistic(items_base=frozenset({'light cream'}), items_add=frozenset({'chicken'}), confidence=0.29059829059829057, lift=4.84395061728395)]),\n",
       " RelationRecord(items=frozenset({'escalope', 'mushroom cream sauce'}), support=0.005732568990801226, ordered_statistics=[OrderedStatistic(items_base=frozenset({'mushroom cream sauce'}), items_add=frozenset({'escalope'}), confidence=0.3006993006993007, lift=3.790832696715049)]),\n",
       " RelationRecord(items=frozenset({'pasta', 'escalope'}), support=0.005865884548726837, ordered_statistics=[OrderedStatistic(items_base=frozenset({'pasta'}), items_add=frozenset({'escalope'}), confidence=0.3728813559322034, lift=4.700811850163794)]),\n",
       " RelationRecord(items=frozenset({'honey', 'fromage blanc'}), support=0.003332888948140248, ordered_statistics=[OrderedStatistic(items_base=frozenset({'fromage blanc'}), items_add=frozenset({'honey'}), confidence=0.2450980392156863, lift=5.164270764485569)]),\n",
       " RelationRecord(items=frozenset({'ground beef', 'herb & pepper'}), support=0.015997866951073192, ordered_statistics=[OrderedStatistic(items_base=frozenset({'herb & pepper'}), items_add=frozenset({'ground beef'}), confidence=0.3234501347708895, lift=3.2919938411349285)]),\n",
       " RelationRecord(items=frozenset({'ground beef', 'tomato sauce'}), support=0.005332622317024397, ordered_statistics=[OrderedStatistic(items_base=frozenset({'tomato sauce'}), items_add=frozenset({'ground beef'}), confidence=0.3773584905660377, lift=3.840659481324083)]),\n",
       " RelationRecord(items=frozenset({'light cream', 'olive oil'}), support=0.003199573390214638, ordered_statistics=[OrderedStatistic(items_base=frozenset({'light cream'}), items_add=frozenset({'olive oil'}), confidence=0.20512820512820515, lift=3.1147098515519573)]),\n",
       " RelationRecord(items=frozenset({'whole wheat pasta', 'olive oil'}), support=0.007998933475536596, ordered_statistics=[OrderedStatistic(items_base=frozenset({'whole wheat pasta'}), items_add=frozenset({'olive oil'}), confidence=0.2714932126696833, lift=4.122410097642296)]),\n",
       " RelationRecord(items=frozenset({'pasta', 'shrimp'}), support=0.005065991201173177, ordered_statistics=[OrderedStatistic(items_base=frozenset({'pasta'}), items_add=frozenset({'shrimp'}), confidence=0.3220338983050847, lift=4.506672147735896)])]"
      ]
     },
     "execution_count": 25,
     "metadata": {},
     "output_type": "execute_result"
    }
   ],
   "source": [
    "# Visualisation of the results\n",
    "\n",
    "# Apriori results\n",
    "results = list(rules)\n",
    "results\n",
    "\n",
    "# i.e. if someone buys items_base=frozenset({'light cream'}), there is 29% chance they will buy items_add=frozenset({'chicken'}), (confidence=0.29059)\n",
    "\n",
    "# Apriori results -> Pandas DataFrame\n",
    "# tuples - collections of data in the single variable\n",
    "\n",
    "# result[0] - element of index 0: [RelationRecord(items=frozenset({'chicken', 'light cream'}),\n",
    "# result[1] - element of index 1: support=0.004532728969470737,\n",
    "# result[2] - element of index 2: ordered_statistics=[OrderedStatistic(items_base=frozenset({'light cream'}), items_add=frozenset({'chicken'}), confidence=0.29059829059829057, lift=4.84395061728395)]),\n",
    "\n",
    "# result[2][0] - OrderedStatistic(items_base=frozenset({'light cream'}), items_add=frozenset({'chicken'})\n",
    "\n",
    "# result[2][0][1] - items_add=frozenset({'chicken'})\n",
    "\n",
    "# tuple(result[2][0][1])[0] - data inside the element of index 1 inside of the element of index 2: chicken\n",
    "\n",
    "def inspect(results):\n",
    "    left = tuple(result[2][0][0])[0] for result in results\n",
    "    right = tuple(result[2][0][1])[0] for result in results\n",
    "    supports = result[1] for result in results\n",
    "    confidences = result[2][0][2] for result in results\n",
    "    lifts = result[2][0][3] for result in results\n",
    "return list(zip(left, right, supports, confidences, lifts)) # returns the list of results separately\n",
    "\n",
    "# we will get a table with rules information\n",
    "results_as_data_frame = pd.DataFrame(inspect(results), columns = ['Left side of the rule', 'Right side of the rule', 'Support', 'Confidence', 'Lifts'])\n",
    "\n",
    "# Visualisation of the results - nonsorted\n",
    "\n",
    "# Visualisation of the results - sorted by desc lifts"
   ]
  },
  {
   "cell_type": "code",
   "execution_count": null,
   "metadata": {},
   "outputs": [],
   "source": []
  }
 ],
 "metadata": {
  "kernelspec": {
   "display_name": "Python 3",
   "language": "python",
   "name": "python3"
  },
  "language_info": {
   "codemirror_mode": {
    "name": "ipython",
    "version": 3
   },
   "file_extension": ".py",
   "mimetype": "text/x-python",
   "name": "python",
   "nbconvert_exporter": "python",
   "pygments_lexer": "ipython3",
   "version": "3.8.5"
  }
 },
 "nbformat": 4,
 "nbformat_minor": 4
}
