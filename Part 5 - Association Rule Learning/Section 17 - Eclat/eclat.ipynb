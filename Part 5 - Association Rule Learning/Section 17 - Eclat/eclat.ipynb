{
 "cells": [
  {
   "cell_type": "code",
   "execution_count": null,
   "metadata": {},
   "outputs": [],
   "source": [
    "## Eclat Association Rule Learning\n",
    "# like Apriori but only with support metrics\n",
    "# less memory usage than Apriori (Depth-Forst Search)\n",
    "\n",
    "# business problem - buy one product + get one product for free"
   ]
  },
  {
   "cell_type": "code",
   "execution_count": 11,
   "metadata": {},
   "outputs": [
    {
     "name": "stdout",
     "output_type": "stream",
     "text": [
      "Requirement already satisfied: apyori in /opt/anaconda3/lib/python3.8/site-packages (1.1.2)\n"
     ]
    }
   ],
   "source": [
    "# Importing the libraries\n",
    "\n",
    "!pip install apyori\n",
    "\n",
    "import numpy as np\n",
    "import matplotlib.pyplot as plt\n",
    "import pandas as pd"
   ]
  },
  {
   "cell_type": "code",
   "execution_count": 12,
   "metadata": {},
   "outputs": [],
   "source": [
    "# Importing the dataset\n",
    "\n",
    "dataset = pd.read_csv('Market_Basket_Optimisation.csv', header = None)\n",
    "# apriori() needs dataset to be in a list of transactions format, not a data frame\n",
    "# all the elements need to be strings -> str\n",
    "\n",
    "transactions = []\n",
    "for i in range(0,7501):\n",
    "    transactions.append([str(dataset.values[i,j]) for j in range(0,20)])\n",
    "\n",
    "#transactions = dataset.values.tolist() # doesn't work with data types when casting rules as list !\n",
    "#print(transactions)"
   ]
  },
  {
   "cell_type": "code",
   "execution_count": 13,
   "metadata": {},
   "outputs": [],
   "source": [
    "# Fitting (training) the model to the dataset\n",
    "\n",
    "# min_support - minimal support so we don't have to compute all the rules but only the relevant ones\n",
    "# support for 2 products - (no of transactions containing these 2 products)/(total no of transactions) -> (3x7)/7501\n",
    "# we only consider products appearing 3x a week\n",
    "\n",
    "# min_confidence - if 0.8 - world should be correct 80% of the time - too high\n",
    "\n",
    "# lift - most valuable metric to measure trends of the rule\n",
    "\n",
    "# min_length, max_length - number of elements in the rule - 2 = 1 on each side\n",
    "\n",
    "from apyori import apriori\n",
    "rules = apriori(transactions = transactions, min_support = 0.003, min_confidence = 0.2, min_lift = 3, min_length = 2, max_length = 2)"
   ]
  },
  {
   "cell_type": "code",
   "execution_count": 14,
   "metadata": {},
   "outputs": [
    {
     "data": {
      "text/html": [
       "<div>\n",
       "<style scoped>\n",
       "    .dataframe tbody tr th:only-of-type {\n",
       "        vertical-align: middle;\n",
       "    }\n",
       "\n",
       "    .dataframe tbody tr th {\n",
       "        vertical-align: top;\n",
       "    }\n",
       "\n",
       "    .dataframe thead th {\n",
       "        text-align: right;\n",
       "    }\n",
       "</style>\n",
       "<table border=\"1\" class=\"dataframe\">\n",
       "  <thead>\n",
       "    <tr style=\"text-align: right;\">\n",
       "      <th></th>\n",
       "      <th>Left side of the rule</th>\n",
       "      <th>Right side of the rule</th>\n",
       "      <th>Support</th>\n",
       "    </tr>\n",
       "  </thead>\n",
       "  <tbody>\n",
       "    <tr>\n",
       "      <th>4</th>\n",
       "      <td>herb &amp; pepper</td>\n",
       "      <td>ground beef</td>\n",
       "      <td>0.015998</td>\n",
       "    </tr>\n",
       "    <tr>\n",
       "      <th>7</th>\n",
       "      <td>whole wheat pasta</td>\n",
       "      <td>olive oil</td>\n",
       "      <td>0.007999</td>\n",
       "    </tr>\n",
       "    <tr>\n",
       "      <th>2</th>\n",
       "      <td>pasta</td>\n",
       "      <td>escalope</td>\n",
       "      <td>0.005866</td>\n",
       "    </tr>\n",
       "    <tr>\n",
       "      <th>1</th>\n",
       "      <td>mushroom cream sauce</td>\n",
       "      <td>escalope</td>\n",
       "      <td>0.005733</td>\n",
       "    </tr>\n",
       "    <tr>\n",
       "      <th>5</th>\n",
       "      <td>tomato sauce</td>\n",
       "      <td>ground beef</td>\n",
       "      <td>0.005333</td>\n",
       "    </tr>\n",
       "    <tr>\n",
       "      <th>8</th>\n",
       "      <td>pasta</td>\n",
       "      <td>shrimp</td>\n",
       "      <td>0.005066</td>\n",
       "    </tr>\n",
       "    <tr>\n",
       "      <th>0</th>\n",
       "      <td>light cream</td>\n",
       "      <td>chicken</td>\n",
       "      <td>0.004533</td>\n",
       "    </tr>\n",
       "    <tr>\n",
       "      <th>3</th>\n",
       "      <td>fromage blanc</td>\n",
       "      <td>honey</td>\n",
       "      <td>0.003333</td>\n",
       "    </tr>\n",
       "    <tr>\n",
       "      <th>6</th>\n",
       "      <td>light cream</td>\n",
       "      <td>olive oil</td>\n",
       "      <td>0.003200</td>\n",
       "    </tr>\n",
       "  </tbody>\n",
       "</table>\n",
       "</div>"
      ],
      "text/plain": [
       "  Left side of the rule Right side of the rule   Support\n",
       "4         herb & pepper            ground beef  0.015998\n",
       "7     whole wheat pasta              olive oil  0.007999\n",
       "2                 pasta               escalope  0.005866\n",
       "1  mushroom cream sauce               escalope  0.005733\n",
       "5          tomato sauce            ground beef  0.005333\n",
       "8                 pasta                 shrimp  0.005066\n",
       "0           light cream                chicken  0.004533\n",
       "3         fromage blanc                  honey  0.003333\n",
       "6           light cream              olive oil  0.003200"
      ]
     },
     "execution_count": 14,
     "metadata": {},
     "output_type": "execute_result"
    }
   ],
   "source": [
    "# Visualisation of the results\n",
    "\n",
    "# Eclat results\n",
    "results = list(rules)\n",
    "results\n",
    "\n",
    "# i.e. if someone buys items_base=frozenset({'light cream'}), there is 29% chance they will buy items_add=frozenset({'chicken'}), (confidence=0.29059)\n",
    "\n",
    "# Eclat results -> Pandas DataFrame\n",
    "# tuples - collections of data in the single variable\n",
    "\n",
    "def inspect(results):\n",
    "    left = [tuple(result[2][0][0])[0] for result in results]\n",
    "    right = [tuple(result[2][0][1])[0] for result in results]\n",
    "    supports = [result[1] for result in results]\n",
    "    return list(zip(left, right, supports)) # returns the list of results separately\n",
    "\n",
    "# we will get a table with rules information\n",
    "results_as_data_frame = pd.DataFrame(inspect(results), columns = ['Left side of the rule', 'Right side of the rule', 'Support'])\n",
    "\n",
    "# Visualisation of the results - nonsorted\n",
    "results_as_data_frame\n",
    "\n",
    "# Visualisation of the results - sorted by desc lifts\n",
    "# n = 10 - 10 best rules\n",
    "\n",
    "results_as_data_frame.nlargest(n = 10, columns = 'Support')"
   ]
  },
  {
   "cell_type": "code",
   "execution_count": null,
   "metadata": {},
   "outputs": [],
   "source": []
  }
 ],
 "metadata": {
  "kernelspec": {
   "display_name": "Python 3",
   "language": "python",
   "name": "python3"
  },
  "language_info": {
   "codemirror_mode": {
    "name": "ipython",
    "version": 3
   },
   "file_extension": ".py",
   "mimetype": "text/x-python",
   "name": "python",
   "nbconvert_exporter": "python",
   "pygments_lexer": "ipython3",
   "version": "3.8.5"
  }
 },
 "nbformat": 4,
 "nbformat_minor": 4
}
