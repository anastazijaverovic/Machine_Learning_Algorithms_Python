{
 "cells": [
  {
   "cell_type": "code",
   "execution_count": null,
   "metadata": {},
   "outputs": [],
   "source": [
    "## Convolutional Neural Networks\n",
    "# additional layer in the ANN used for images/3D frames"
   ]
  },
  {
   "cell_type": "code",
   "execution_count": 1,
   "metadata": {},
   "outputs": [],
   "source": [
    "## Importing the libraries\n",
    "\n",
    "import tensorflow as tf\n",
    "import numpy as np\n",
    "import matplotlib.pyplot as plt\n",
    "import pandas as pd"
   ]
  },
  {
   "cell_type": "code",
   "execution_count": 2,
   "metadata": {},
   "outputs": [
    {
     "name": "stdout",
     "output_type": "stream",
     "text": [
      "Found 8000 images belonging to 2 classes.\n",
      "Found 2000 images belonging to 2 classes.\n"
     ]
    }
   ],
   "source": [
    "## Data preprocessing\n",
    "\n",
    "# image augmentation - geometrical transformations (rotation/zoom/...) -> new images -> avoid overfitting\n",
    "from tensorflow.keras.preprocessing.image import ImageDataGenerator\n",
    "\n",
    "# Processing the training set\n",
    "train_datagen = ImageDataGenerator(rescale = 1./255, # feature scaling on every pixel - divide its value with  255\n",
    "                                   shear_range = 0.2,\n",
    "                                   zoom_range = 0.2,\n",
    "                                   horizontal_flip = True)\n",
    "\n",
    "training_set = train_datagen.flow_from_directory('dataset/training_set', target_size = (64, 64), batch_size = 32, class_mode = 'binary') # cat/dog - binary outcome\n",
    "\n",
    "# Processing the test set\n",
    "\n",
    "test_datagen = ImageDataGenerator(rescale = 1./255)\n",
    "\n",
    "test_set = test_datagen.flow_from_directory('dataset/test_set', target_size = (64, 64), batch_size = 32, class_mode = 'binary')"
   ]
  },
  {
   "cell_type": "code",
   "execution_count": 3,
   "metadata": {},
   "outputs": [],
   "source": [
    "## Building the CNN\n",
    "\n",
    "# Initialising the CNN\n",
    "cnn = tf.keras.models.Sequential()\n",
    "\n",
    "# 1. Convolution\n",
    "cnn.add(tf.keras.layers.Conv2D(filters = 32, kernel_size = 3, activation = 'relu', input_shape = [64, 64, 3]))\n",
    "\n",
    "# 2. Pooling\n",
    "cnn.add(tf.keras.layers.MaxPool2D(pool_size = 2, strides = 2))\n",
    "\n",
    "# Adding a second convolutional layer\n",
    "cnn.add(tf.keras.layers.Conv2D(filters = 32, kernel_size = 3, activation = 'relu'))\n",
    "cnn.add(tf.keras.layers.MaxPool2D(pool_size = 2, strides = 2))\n",
    "\n",
    "# 3. Flattening\n",
    "cnn.add(tf.keras.layers.Flatten())\n",
    "\n",
    "# 4. Full connection\n",
    "cnn.add(tf.keras.layers.Dense(units = 128, activation = 'relu'))\n",
    "\n",
    "# 5. Output layer\n",
    "cnn.add(tf.keras.layers.Dense(units = 1, activation = 'sigmoid'))\n"
   ]
  },
  {
   "cell_type": "code",
   "execution_count": 6,
   "metadata": {},
   "outputs": [
    {
     "name": "stdout",
     "output_type": "stream",
     "text": [
      "Epoch 1/25\n",
      "250/250 [==============================] - 43s 172ms/step - loss: 0.6199 - accuracy: 0.6490 - val_loss: 0.5735 - val_accuracy: 0.7120\n",
      "Epoch 2/25\n",
      "250/250 [==============================] - 38s 154ms/step - loss: 0.5619 - accuracy: 0.7079 - val_loss: 0.5407 - val_accuracy: 0.7270\n",
      "Epoch 3/25\n",
      "250/250 [==============================] - 47s 190ms/step - loss: 0.5309 - accuracy: 0.7334 - val_loss: 0.5272 - val_accuracy: 0.7465\n",
      "Epoch 4/25\n",
      "250/250 [==============================] - 53s 212ms/step - loss: 0.5176 - accuracy: 0.7429 - val_loss: 0.4921 - val_accuracy: 0.7680\n",
      "Epoch 5/25\n",
      "250/250 [==============================] - 44s 176ms/step - loss: 0.4848 - accuracy: 0.7670 - val_loss: 0.4889 - val_accuracy: 0.7645\n",
      "Epoch 6/25\n",
      "250/250 [==============================] - 35s 140ms/step - loss: 0.4810 - accuracy: 0.7652 - val_loss: 0.4860 - val_accuracy: 0.7740\n",
      "Epoch 7/25\n",
      "250/250 [==============================] - 34s 137ms/step - loss: 0.4631 - accuracy: 0.7790 - val_loss: 0.5333 - val_accuracy: 0.7605\n",
      "Epoch 8/25\n",
      "250/250 [==============================] - 35s 139ms/step - loss: 0.4416 - accuracy: 0.7964 - val_loss: 0.4794 - val_accuracy: 0.7815\n",
      "Epoch 9/25\n",
      "250/250 [==============================] - 35s 140ms/step - loss: 0.4292 - accuracy: 0.8010 - val_loss: 0.5810 - val_accuracy: 0.7350\n",
      "Epoch 10/25\n",
      "250/250 [==============================] - 35s 140ms/step - loss: 0.4113 - accuracy: 0.8070 - val_loss: 0.4921 - val_accuracy: 0.7880\n",
      "Epoch 11/25\n",
      "250/250 [==============================] - 35s 139ms/step - loss: 0.3856 - accuracy: 0.8231 - val_loss: 0.5155 - val_accuracy: 0.7775\n",
      "Epoch 12/25\n",
      "250/250 [==============================] - 36s 143ms/step - loss: 0.3879 - accuracy: 0.8205 - val_loss: 0.4645 - val_accuracy: 0.7970\n",
      "Epoch 13/25\n",
      "250/250 [==============================] - 35s 139ms/step - loss: 0.3797 - accuracy: 0.8284 - val_loss: 0.4726 - val_accuracy: 0.7910\n",
      "Epoch 14/25\n",
      "250/250 [==============================] - 34s 138ms/step - loss: 0.3649 - accuracy: 0.8320 - val_loss: 0.4885 - val_accuracy: 0.8045\n",
      "Epoch 15/25\n",
      "250/250 [==============================] - 34s 136ms/step - loss: 0.3644 - accuracy: 0.8368 - val_loss: 0.4603 - val_accuracy: 0.8015\n",
      "Epoch 16/25\n",
      "250/250 [==============================] - 352s 1s/step - loss: 0.3224 - accuracy: 0.8628 - val_loss: 0.4687 - val_accuracy: 0.8010\n",
      "Epoch 17/25\n",
      "250/250 [==============================] - 40s 160ms/step - loss: 0.3138 - accuracy: 0.8638 - val_loss: 0.4653 - val_accuracy: 0.8035\n",
      "Epoch 18/25\n",
      "250/250 [==============================] - 41s 165ms/step - loss: 0.3087 - accuracy: 0.8628 - val_loss: 0.5327 - val_accuracy: 0.7865\n",
      "Epoch 19/25\n",
      "250/250 [==============================] - 42s 169ms/step - loss: 0.3126 - accuracy: 0.8660 - val_loss: 0.5164 - val_accuracy: 0.7900\n",
      "Epoch 20/25\n",
      "250/250 [==============================] - 38s 153ms/step - loss: 0.2831 - accuracy: 0.8768 - val_loss: 0.5717 - val_accuracy: 0.7725\n",
      "Epoch 21/25\n",
      "250/250 [==============================] - 40s 161ms/step - loss: 0.2599 - accuracy: 0.8916 - val_loss: 0.5027 - val_accuracy: 0.7920\n",
      "Epoch 22/25\n",
      "250/250 [==============================] - 41s 166ms/step - loss: 0.2523 - accuracy: 0.8950 - val_loss: 0.5471 - val_accuracy: 0.8090\n",
      "Epoch 23/25\n",
      "250/250 [==============================] - 50s 202ms/step - loss: 0.2502 - accuracy: 0.8973 - val_loss: 0.6087 - val_accuracy: 0.7885\n",
      "Epoch 24/25\n",
      "250/250 [==============================] - 52s 210ms/step - loss: 0.2609 - accuracy: 0.8959 - val_loss: 0.5374 - val_accuracy: 0.8010\n",
      "Epoch 25/25\n",
      "250/250 [==============================] - 41s 162ms/step - loss: 0.2165 - accuracy: 0.9062 - val_loss: 0.5923 - val_accuracy: 0.7910\n"
     ]
    },
    {
     "data": {
      "text/plain": [
       "<tensorflow.python.keras.callbacks.History at 0x7f8f590903d0>"
      ]
     },
     "execution_count": 6,
     "metadata": {},
     "output_type": "execute_result"
    }
   ],
   "source": [
    "## Training the CNN\n",
    "\n",
    "# Compiling the CNN\n",
    "cnn.compile(optimizer = 'adam', loss = 'binary_crossentropy', metrics = ['accuracy'])\n",
    "\n",
    "# Fitting and evaluation\n",
    "cnn.fit(x = training_set, validation_data = test_set, epochs = 25)"
   ]
  },
  {
   "cell_type": "code",
   "execution_count": 19,
   "metadata": {},
   "outputs": [
    {
     "name": "stdout",
     "output_type": "stream",
     "text": [
      "cat\n",
      "4718\n"
     ]
    }
   ],
   "source": [
    "## Making a single prediction\n",
    "from tensorflow.keras.preprocessing import image\n",
    "import random\n",
    "\n",
    "single_pred = image.load_img('dataset/single_prediction/cat_or_dog_1.jpg', target_size = (64, 64))\n",
    "single_pred = image.img_to_array(single_pred)\n",
    "single_pred = np.expand_dims(single_pred, axis = 0)   # 1st dim will be the dim of the batch\n",
    "\n",
    "result = cnn.predict(single_pred)   # result is a batch\n",
    "\n",
    "training_set.class_indices\n",
    "if (result[0][0]) == 1:   # result[0] - accessing the batch, result[0][0] - first element of the batch\n",
    "    prediction = 'dog'\n",
    "else:\n",
    "    prediction = 'cat'\n",
    "\n",
    "print(prediction)\n",
    "\n",
    "rnd = random.randrange(4000,5000)\n",
    "print(rnd)\n",
    "\n"
   ]
  },
  {
   "cell_type": "code",
   "execution_count": null,
   "metadata": {},
   "outputs": [],
   "source": []
  }
 ],
 "metadata": {
  "kernelspec": {
   "display_name": "Python 3",
   "language": "python",
   "name": "python3"
  },
  "language_info": {
   "codemirror_mode": {
    "name": "ipython",
    "version": 3
   },
   "file_extension": ".py",
   "mimetype": "text/x-python",
   "name": "python",
   "nbconvert_exporter": "python",
   "pygments_lexer": "ipython3",
   "version": "3.8.5"
  }
 },
 "nbformat": 4,
 "nbformat_minor": 4
}
