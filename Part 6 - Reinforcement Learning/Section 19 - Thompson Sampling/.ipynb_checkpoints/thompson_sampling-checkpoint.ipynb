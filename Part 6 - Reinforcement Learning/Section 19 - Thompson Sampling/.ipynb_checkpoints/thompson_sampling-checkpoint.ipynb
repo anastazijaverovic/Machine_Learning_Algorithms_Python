{
 "cells": [
  {
   "cell_type": "code",
   "execution_count": null,
   "metadata": {},
   "outputs": [],
   "source": [
    "## Thompson Sampling Reinforcement Learning"
   ]
  },
  {
   "cell_type": "code",
   "execution_count": 5,
   "metadata": {},
   "outputs": [],
   "source": [
    "# Importing the libraries\n",
    "\n",
    "import pandas as pd\n",
    "import numpy as np\n",
    "import matplotlib.pyplot as plt\n",
    "import random"
   ]
  },
  {
   "cell_type": "code",
   "execution_count": 6,
   "metadata": {},
   "outputs": [],
   "source": [
    "# Importing the dataset\n",
    "\n",
    "dataset = pd.read_csv(\"Ads_CTR_Optimisation.csv\")"
   ]
  },
  {
   "cell_type": "code",
   "execution_count": 7,
   "metadata": {},
   "outputs": [],
   "source": [
    "# Implementing Thompson Sampling\n",
    "\n",
    "total_users = len(dataset.index) # number of users = number of rows = rounds\n",
    "no_of_ads = len(dataset.columns)\n",
    "ads_selected = [] # list of ads selected over one round - the no of times the ad i was selected up to round n\n",
    "no_of_rewards_1 = [0] * no_of_ads # the number of times an ad got a reward 1 up to the round\n",
    "no_of_rewards_0 = [0] * no_of_ads # the number of times an ad got a reward 0 up to the round"
   ]
  },
  {
   "cell_type": "code",
   "execution_count": null,
   "metadata": {},
   "outputs": [],
   "source": [
    "# Visualizing the results\n",
    "\n",
    "plt.hist(ads_selected)\n",
    "plt.xlabel(\"Ads\")\n",
    "plt.ylabel(\"Number of selections\")\n",
    "plt.show()"
   ]
  }
 ],
 "metadata": {
  "kernelspec": {
   "display_name": "Python 3",
   "language": "python",
   "name": "python3"
  },
  "language_info": {
   "codemirror_mode": {
    "name": "ipython",
    "version": 3
   },
   "file_extension": ".py",
   "mimetype": "text/x-python",
   "name": "python",
   "nbconvert_exporter": "python",
   "pygments_lexer": "ipython3",
   "version": "3.8.5"
  }
 },
 "nbformat": 4,
 "nbformat_minor": 4
}
