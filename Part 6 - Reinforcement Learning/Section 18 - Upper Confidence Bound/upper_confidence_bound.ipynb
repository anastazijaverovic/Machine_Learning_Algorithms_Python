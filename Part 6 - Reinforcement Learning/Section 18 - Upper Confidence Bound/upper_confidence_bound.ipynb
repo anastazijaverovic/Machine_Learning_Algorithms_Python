{
 "cells": [
  {
   "cell_type": "code",
   "execution_count": null,
   "metadata": {},
   "outputs": [],
   "source": [
    "## Upper Confidence Bound - Reinforcement Learning\n",
    "\n",
    "\n",
    "\n",
    "# Agent will optimistically pick the action that has the highest upper bound i.e. A. \n",
    "# By doing this either it will have the highest value and get the highest reward, \n",
    "# or by taking that we will get to learn about an action we know least about.\n",
    "\n",
    "# at each round - the number of times the ad was selected and the sum of rewards "
   ]
  },
  {
   "cell_type": "code",
   "execution_count": 10,
   "metadata": {},
   "outputs": [],
   "source": [
    "# Importing the libraries\n",
    "\n",
    "import numpy as np\n",
    "import matplotlib.pyplot as plt\n",
    "import pandas as pd\n",
    "import math"
   ]
  },
  {
   "cell_type": "code",
   "execution_count": 11,
   "metadata": {},
   "outputs": [],
   "source": [
    "# Importing the dataset\n",
    "\n",
    "# one row = one user\n",
    "\n",
    "dataset = pd.read_csv('Ads_CTR_Optimisation.csv')"
   ]
  },
  {
   "cell_type": "code",
   "execution_count": 9,
   "metadata": {},
   "outputs": [
    {
     "data": {
      "text/plain": [
       "10"
      ]
     },
     "execution_count": 9,
     "metadata": {},
     "output_type": "execute_result"
    }
   ],
   "source": [
    "# Implementing UCB algorithm\n",
    "\n",
    "# initialization of variables\n",
    "\n",
    "total_users = len(dataset.index) # number of users = number of rows = rounds\n",
    "no_of_ads = len(dataset.columns)\n",
    "total_reward = 0\n",
    "sums_of_rewards = [0] * no_of_ads # the sum of rewards of the ad i up to round n - for each of the ads -> list\n",
    "ads_selected = [] # list of ads selected over one round - the no of times the ad i was selected up to round n\n",
    "numbers_of_selections = [0] * no_of_ads # number of times each ad was selected for each of the ads -> list\n",
    "\n",
    "\n",
    "ad = 0 # selected ad in the round\n",
    "for i in range(0,total_users):\n",
    "    max_ucb = 0\n",
    "    for j in range(0,no_of_ads):\n",
    "        if numbers_of_selections[j] > 0:\n",
    "            avg_reward_ad = sums_of_rewards[j]/numbers_of_selections[j] # avg reward of ad i up to round n\n",
    "            avg_confidence = math.sqrt(3/2 * math.log(i + 1)/numbers_of_selections[j]) # avg confidence interval at round n\n",
    "            ucb = avg_reward_ad + avg_confidence\n",
    "            if ucb > max_ucb:\n",
    "                max_ucb = ucb\n",
    "            else:\n",
    "                ucb = \n",
    "                \n",
    "    ad = ad + 1        \n",
    "            sums_of_rewards[j] = sums_of_rewards[j] + dataset[i].value\n",
    "            numbers_of_selections[j] = numbers_of_selections[j] + 1\n"
   ]
  },
  {
   "cell_type": "code",
   "execution_count": null,
   "metadata": {},
   "outputs": [],
   "source": [
    "# Visualizing the results"
   ]
  }
 ],
 "metadata": {
  "kernelspec": {
   "display_name": "Python 3",
   "language": "python",
   "name": "python3"
  },
  "language_info": {
   "codemirror_mode": {
    "name": "ipython",
    "version": 3
   },
   "file_extension": ".py",
   "mimetype": "text/x-python",
   "name": "python",
   "nbconvert_exporter": "python",
   "pygments_lexer": "ipython3",
   "version": "3.8.5"
  }
 },
 "nbformat": 4,
 "nbformat_minor": 4
}
