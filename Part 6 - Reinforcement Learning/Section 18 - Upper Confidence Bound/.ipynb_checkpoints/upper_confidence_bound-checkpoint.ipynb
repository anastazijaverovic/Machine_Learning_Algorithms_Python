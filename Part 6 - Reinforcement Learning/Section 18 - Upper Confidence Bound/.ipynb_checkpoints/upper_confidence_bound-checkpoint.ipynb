{
 "cells": [
  {
   "cell_type": "code",
   "execution_count": null,
   "metadata": {},
   "outputs": [],
   "source": [
    "## Upper Confidence Bound - Reinforcement Learning\n",
    "\n",
    "\n",
    "\n",
    "# Agent will optimistically pick the action that has the highest upper bound i.e. A. \n",
    "# By doing this either it will have the highest value and get the highest reward, \n",
    "# or by taking that we will get to learn about an action we know least about.\n",
    "\n",
    "# at each round - the number of times the ad was selected and the sum of rewards "
   ]
  },
  {
   "cell_type": "code",
   "execution_count": 2,
   "metadata": {},
   "outputs": [],
   "source": [
    "# Importing the libraries\n",
    "\n",
    "import numpy as np\n",
    "import matplotlib.pyplot as plt\n",
    "import pandas as pd\n",
    "import math"
   ]
  },
  {
   "cell_type": "code",
   "execution_count": 3,
   "metadata": {},
   "outputs": [],
   "source": [
    "# Importing the dataset\n",
    "\n",
    "# one row = one user\n",
    "\n",
    "dataset = pd.read_csv('Ads_CTR_Optimisation.csv')"
   ]
  },
  {
   "cell_type": "code",
   "execution_count": 4,
   "metadata": {},
   "outputs": [],
   "source": [
    "# Implementing UCB algorithm\n",
    "\n",
    "# initialization of variables\n",
    "\n",
    "total_users = len(dataset.index) # number of users = number of rows = rounds\n",
    "no_of_ads = len(dataset.columns)\n",
    "total_reward = 0\n",
    "sums_of_rewards = [0] * no_of_ads # the sum of rewards of the ad i up to round n - for each of the ads -> list\n",
    "ads_selected = [] # list of ads selected over one round - the no of times the ad i was selected up to round n\n",
    "numbers_of_selections = [0] * no_of_ads # number of times each ad was selected for each of the ads -> list\n",
    "\n",
    "\n",
    "ad = 0 # selected ad in the round\n",
    "for i in range(0,total_users):\n",
    "    max_ucb = 0\n",
    "    for j in range(0,no_of_ads):\n",
    "        if (numbers_of_selections[j] > 0):\n",
    "            avg_reward_ad = sums_of_rewards[j]/numbers_of_selections[j] # avg reward of ad i up to round n\n",
    "            avg_confidence = math.sqrt(3/2 * math.log(i + 1)/numbers_of_selections[j]) # avg confidence interval at round n\n",
    "            ucb = avg_reward_ad + avg_confidence\n",
    "        else:\n",
    "            ucb = 1e400 # if the ad was not selected yet, it will get selected because of the high value, only for the first 10 rounds\n",
    "        if (ucb > max_ucb):\n",
    "            max_ucb = ucb\n",
    "            ad = j # select the ad\n",
    "    ads_selected.append(ad) # ads selected over one round -> in the outer loop\n",
    "    numbers_of_selections[ad] += 1\n",
    "    reward = dataset.values[i, ad]\n",
    "    sums_of_rewards[ad] = sums_of_rewards[ad] + reward\n",
    "    total_reward += reward"
   ]
  },
  {
   "cell_type": "code",
   "execution_count": 6,
   "metadata": {},
   "outputs": [
    {
     "data": {
      "image/png": "[encoded data removed]",
      "text/plain": [
       "<Figure size 432x288 with 1 Axes>"
      ]
     },
     "metadata": {
      "needs_background": "light"
     },
     "output_type": "display_data"
    }
   ],
   "source": [
    "# Visualizing the results\n",
    "plt.hist(ads_selected)\n",
    "plt.xlabel(\"Ads\")\n",
    "plt.ylabel(\"Number of selections\")\n",
    "plt.show()"
   ]
  },
  {
   "cell_type": "code",
   "execution_count": null,
   "metadata": {},
   "outputs": [],
   "source": []
  }
 ],
 "metadata": {
  "kernelspec": {
   "display_name": "Python 3",
   "language": "python",
   "name": "python3"
  },
  "language_info": {
   "codemirror_mode": {
    "name": "ipython",
    "version": 3
   },
   "file_extension": ".py",
   "mimetype": "text/x-python",
   "name": "python",
   "nbconvert_exporter": "python",
   "pygments_lexer": "ipython3",
   "version": "3.8.5"
  }
 },
 "nbformat": 4,
 "nbformat_minor": 4
}
